{
 "cells": [
  {
   "cell_type": "code",
   "execution_count": 1,
   "metadata": {
    "collapsed": false
   },
   "outputs": [],
   "source": [
    "# Import the required packages\n",
    "import pandas as pd\n",
    "import relativeage as ra\n",
    "import scipy.stats\n",
    "import matplotlib.pyplot as plt\n",
    "%matplotlib inline\n",
    "\n",
    "# Set up a factory, this will cache all data it retrieves.\n",
    "fac = ra.auk.DataFactory()\n"
   ]
  },
  {
   "cell_type": "code",
   "execution_count": 2,
   "metadata": {
    "collapsed": false
   },
   "outputs": [
    {
     "data": {
      "text/html": [
       "<div>\n",
       "<table border=\"1\" class=\"dataframe\">\n",
       "  <thead>\n",
       "    <tr style=\"text-align: right;\">\n",
       "      <th>1</th>\n",
       "      <th>Rank</th>\n",
       "      <th>Perf</th>\n",
       "      <th>Name</th>\n",
       "      <th>DOB</th>\n",
       "    </tr>\n",
       "  </thead>\n",
       "  <tbody>\n",
       "    <tr>\n",
       "      <th>0</th>\n",
       "      <td>1</td>\n",
       "      <td>9.87</td>\n",
       "      <td>Linford Christie</td>\n",
       "      <td>1960-04-02</td>\n",
       "    </tr>\n",
       "    <tr>\n",
       "      <th>1</th>\n",
       "      <td>2</td>\n",
       "      <td>9.91</td>\n",
       "      <td>James Dasaolu</td>\n",
       "      <td>1987-09-05</td>\n",
       "    </tr>\n",
       "    <tr>\n",
       "      <th>2</th>\n",
       "      <td>3</td>\n",
       "      <td>9.96</td>\n",
       "      <td>Chijindu Ujah</td>\n",
       "      <td>1994-03-05</td>\n",
       "    </tr>\n",
       "    <tr>\n",
       "      <th>3</th>\n",
       "      <td>4</td>\n",
       "      <td>9.96</td>\n",
       "      <td>Joel Fearon</td>\n",
       "      <td>1988-10-11</td>\n",
       "    </tr>\n",
       "    <tr>\n",
       "      <th>4</th>\n",
       "      <td>5</td>\n",
       "      <td>9.97</td>\n",
       "      <td>Dwain Chambers</td>\n",
       "      <td>1978-04-05</td>\n",
       "    </tr>\n",
       "    <tr>\n",
       "      <th>5</th>\n",
       "      <td>6</td>\n",
       "      <td>9.97</td>\n",
       "      <td>Adam Gemili</td>\n",
       "      <td>1993-10-06</td>\n",
       "    </tr>\n",
       "    <tr>\n",
       "      <th>6</th>\n",
       "      <td>7</td>\n",
       "      <td>9.98</td>\n",
       "      <td>Jason Gardener</td>\n",
       "      <td>1975-09-18</td>\n",
       "    </tr>\n",
       "    <tr>\n",
       "      <th>7</th>\n",
       "      <td>8</td>\n",
       "      <td>10.01</td>\n",
       "      <td>Richard Kilty</td>\n",
       "      <td>1989-09-02</td>\n",
       "    </tr>\n",
       "    <tr>\n",
       "      <th>8</th>\n",
       "      <td>9</td>\n",
       "      <td>10.03</td>\n",
       "      <td>Simeon Williamson</td>\n",
       "      <td>1986-01-16</td>\n",
       "    </tr>\n",
       "    <tr>\n",
       "      <th>9</th>\n",
       "      <td>10</td>\n",
       "      <td>10.04</td>\n",
       "      <td>Darren Campbell</td>\n",
       "      <td>1973-09-12</td>\n",
       "    </tr>\n",
       "  </tbody>\n",
       "</table>\n",
       "</div>"
      ],
      "text/plain": [
       "1  Rank   Perf               Name         DOB\n",
       "0     1   9.87   Linford Christie  1960-04-02\n",
       "1     2   9.91      James Dasaolu  1987-09-05\n",
       "2     3   9.96      Chijindu Ujah  1994-03-05\n",
       "3     4   9.96        Joel Fearon  1988-10-11\n",
       "4     5   9.97     Dwain Chambers  1978-04-05\n",
       "5     6   9.97        Adam Gemili  1993-10-06\n",
       "6     7   9.98     Jason Gardener  1975-09-18\n",
       "7     8  10.01      Richard Kilty  1989-09-02\n",
       "8     9  10.03  Simeon Williamson  1986-01-16\n",
       "9    10  10.04    Darren Campbell  1973-09-12"
      ]
     },
     "execution_count": 2,
     "metadata": {},
     "output_type": "execute_result"
    }
   ],
   "source": [
    "# Basic use, get uk all time men's 100m top 10\n",
    "fac.get_data(sex='M',\n",
    "             event='100m',\n",
    "             max_rank=10)"
   ]
  },
  {
   "cell_type": "code",
   "execution_count": 5,
   "metadata": {
    "collapsed": false
   },
   "outputs": [
    {
     "data": {
      "image/png": "[encoded data removed]",
      "text/plain": [
       "<matplotlib.figure.Figure at 0xb7664a8>"
      ]
     },
     "metadata": {},
     "output_type": "display_data"
    }
   ],
   "source": [
    "all_time_ew = fac.get_data(sex='M',\n",
    "                           event_group=None, \n",
    "                           years=None, \n",
    "                           areas=[ra.auk.Area.England, ra.auk.Area.Wales], \n",
    "                           max_rank=50)\n",
    "ra.plot_by_month(all_time_ew.DOB, \"All time performances, England and Wales\")"
   ]
  },
  {
   "cell_type": "code",
   "execution_count": 6,
   "metadata": {
    "collapsed": false
   },
   "outputs": [
    {
     "data": {
      "text/plain": [
       "0.00028674018668107751"
      ]
     },
     "execution_count": 6,
     "metadata": {},
     "output_type": "execute_result"
    }
   ],
   "source": [
    "ra.chi_squared(all_time_ew.DOB)"
   ]
  },
  {
   "cell_type": "code",
   "execution_count": 4,
   "metadata": {
    "collapsed": false
   },
   "outputs": [
    {
     "data": {
      "text/html": [
       "<div>\n",
       "<table border=\"1\" class=\"dataframe\">\n",
       "  <thead>\n",
       "    <tr style=\"text-align: right;\">\n",
       "      <th></th>\n",
       "      <th>Count</th>\n",
       "      <th>Offset</th>\n",
       "      <th>First half percentage</th>\n",
       "      <th>First to fourth quarter ratio</th>\n",
       "    </tr>\n",
       "  </thead>\n",
       "  <tbody>\n",
       "    <tr>\n",
       "      <th>Throws</th>\n",
       "      <td>677</td>\n",
       "      <td>-25.34</td>\n",
       "      <td>58.05</td>\n",
       "      <td>1.97</td>\n",
       "    </tr>\n",
       "    <tr>\n",
       "      <th>Sprints</th>\n",
       "      <td>694</td>\n",
       "      <td>-21.50</td>\n",
       "      <td>57.20</td>\n",
       "      <td>1.74</td>\n",
       "    </tr>\n",
       "    <tr>\n",
       "      <th>Jumps</th>\n",
       "      <td>677</td>\n",
       "      <td>-20.86</td>\n",
       "      <td>59.38</td>\n",
       "      <td>1.72</td>\n",
       "    </tr>\n",
       "    <tr>\n",
       "      <th>Distance</th>\n",
       "      <td>692</td>\n",
       "      <td>-12.75</td>\n",
       "      <td>56.79</td>\n",
       "      <td>1.28</td>\n",
       "    </tr>\n",
       "  </tbody>\n",
       "</table>\n",
       "</div>"
      ],
      "text/plain": [
       "          Count  Offset  First half percentage  First to fourth quarter ratio\n",
       "Throws      677  -25.34                  58.05                           1.97\n",
       "Sprints     694  -21.50                  57.20                           1.74\n",
       "Jumps       677  -20.86                  59.38                           1.72\n",
       "Distance    692  -12.75                  56.79                           1.28"
      ]
     },
     "execution_count": 4,
     "metadata": {},
     "output_type": "execute_result"
    }
   ],
   "source": [
    "groups = ra.auk.event_groups.keys()\n",
    "\n",
    "all_time_dict = {'%s' % group: \n",
    "                 fac.get_data(sex=None,\n",
    "                              event_group=group, \n",
    "                              years=None, \n",
    "                              areas=[ra.auk.Area.England, ra.auk.Area.Wales], \n",
    "                              max_rank=100).DOB for group in groups}\n",
    "ra.summary_table(all_time_dict.keys(), all_time_dict.values(), 9).sort_values('Offset')"
   ]
  },
  {
   "cell_type": "code",
   "execution_count": 12,
   "metadata": {
    "collapsed": false
   },
   "outputs": [
    {
     "data": {
      "image/png": "[encoded data removed]",
      "text/plain": [
       "<matplotlib.figure.Figure at 0xb195940>"
      ]
     },
     "metadata": {},
     "output_type": "display_data"
    },
    {
     "data": {
      "image/png": "[encoded data removed]",
      "text/plain": [
       "<matplotlib.figure.Figure at 0xaf38400>"
      ]
     },
     "metadata": {},
     "output_type": "display_data"
    }
   ],
   "source": [
    "ra.plot_by_month(all_time_dict['Throws'], \"All time throws performances, England and Wales\", \n",
    "                 r\"C:\\temp\\relative_age\\athletics\\all_time_ew_throws.jpg\")\n",
    "ra.plot_by_month(all_time_dict['Distance'], \"All time distance performances, England and Wales\", \n",
    "                 r\"C:\\temp\\relative_age\\athletics\\all_time_ew_distance.jpg\")"
   ]
  },
  {
   "cell_type": "code",
   "execution_count": 10,
   "metadata": {
    "collapsed": false
   },
   "outputs": [
    {
     "data": {
      "image/png": "[encoded data removed]",
      "text/plain": [
       "<matplotlib.figure.Figure at 0xaef94a8>"
      ]
     },
     "metadata": {},
     "output_type": "display_data"
    }
   ],
   "source": [
    "all_time_s = fac.get_data(sex=None,\n",
    "                          event_group=None, \n",
    "                          years=None, \n",
    "                          areas=[ra.auk.Area.Scotland], \n",
    "                          max_rank=100)\n",
    "ra.plot_by_month(all_time_s.DOB, \"All time performances, Scotland\")"
   ]
  },
  {
   "cell_type": "code",
   "execution_count": 12,
   "metadata": {
    "collapsed": false
   },
   "outputs": [
    {
     "data": {
      "text/plain": [
       "0.052971593338463421"
      ]
     },
     "execution_count": 12,
     "metadata": {},
     "output_type": "execute_result"
    }
   ],
   "source": [
    "ra.chi_squared(all_time_s.DOB)"
   ]
  },
  {
   "cell_type": "code",
   "execution_count": 10,
   "metadata": {
    "collapsed": false
   },
   "outputs": [
    {
     "data": {
      "image/png": "[encoded data removed]",
      "text/plain": [
       "<matplotlib.figure.Figure at 0xe76cd68>"
      ]
     },
     "metadata": {},
     "output_type": "display_data"
    }
   ],
   "source": [
    "all_current_ew = fac.get_data(sex=None,\n",
    "                              event_group=None, \n",
    "                              years=[2016, 2015], \n",
    "                              areas=[ra.auk.Area.England, ra.auk.Area.Wales], \n",
    "                              max_rank=200)\n",
    "ra.plot_by_month(all_current_ew.DOB, \"2015-2016, top 200, England and Wales\",\n",
    "                 r\"C:\\temp\\relative_age\\athletics\\EW-2015-2016-top200.jpg\")"
   ]
  },
  {
   "cell_type": "code",
   "execution_count": 27,
   "metadata": {
    "collapsed": false
   },
   "outputs": [
    {
     "name": "stdout",
     "output_type": "stream",
     "text": [
      "0.0535898906042\n"
     ]
    }
   ],
   "source": [
    "#print ra.chi_squared(all_current_ew.DOB)\n",
    "print ra.chi_squared(all_current_s.DOB)"
   ]
  },
  {
   "cell_type": "code",
   "execution_count": 12,
   "metadata": {
    "collapsed": false
   },
   "outputs": [
    {
     "data": {
      "text/html": [
       "<div>\n",
       "<table border=\"1\" class=\"dataframe\">\n",
       "  <thead>\n",
       "    <tr style=\"text-align: right;\">\n",
       "      <th></th>\n",
       "      <th>Count</th>\n",
       "      <th>Offset</th>\n",
       "      <th>First half percentage</th>\n",
       "      <th>First to fourth quarter ratio</th>\n",
       "    </tr>\n",
       "  </thead>\n",
       "  <tbody>\n",
       "    <tr>\n",
       "      <th>Throws</th>\n",
       "      <td>1142</td>\n",
       "      <td>-26.51</td>\n",
       "      <td>61.56</td>\n",
       "      <td>1.83</td>\n",
       "    </tr>\n",
       "    <tr>\n",
       "      <th>Sprints</th>\n",
       "      <td>1375</td>\n",
       "      <td>-26.30</td>\n",
       "      <td>60.36</td>\n",
       "      <td>1.88</td>\n",
       "    </tr>\n",
       "    <tr>\n",
       "      <th>Jumps</th>\n",
       "      <td>1284</td>\n",
       "      <td>-24.67</td>\n",
       "      <td>60.44</td>\n",
       "      <td>1.85</td>\n",
       "    </tr>\n",
       "    <tr>\n",
       "      <th>Distance</th>\n",
       "      <td>1185</td>\n",
       "      <td>-12.68</td>\n",
       "      <td>54.68</td>\n",
       "      <td>1.49</td>\n",
       "    </tr>\n",
       "  </tbody>\n",
       "</table>\n",
       "</div>"
      ],
      "text/plain": [
       "          Count  Offset  First half percentage  First to fourth quarter ratio\n",
       "Throws     1142  -26.51                  61.56                           1.83\n",
       "Sprints    1375  -26.30                  60.36                           1.88\n",
       "Jumps      1284  -24.67                  60.44                           1.85\n",
       "Distance   1185  -12.68                  54.68                           1.49"
      ]
     },
     "execution_count": 12,
     "metadata": {},
     "output_type": "execute_result"
    }
   ],
   "source": [
    "groups = ra.auk.event_groups.keys()\n",
    "\n",
    "d = {'%s' % group: \n",
    "     fac.get_data(sex=None,\n",
    "                  event_group=group, \n",
    "                  years=[2016, 2015], \n",
    "                  areas=[ra.auk.Area.England, ra.auk.Area.Wales], \n",
    "                  max_rank=200).DOB for group in groups}\n",
    "ra.summary_table(d.keys(), d.values(), 9).sort_values('Offset')\n"
   ]
  },
  {
   "cell_type": "code",
   "execution_count": 13,
   "metadata": {
    "collapsed": false
   },
   "outputs": [
    {
     "data": {
      "text/html": [
       "<div>\n",
       "<table border=\"1\" class=\"dataframe\">\n",
       "  <thead>\n",
       "    <tr style=\"text-align: right;\">\n",
       "      <th></th>\n",
       "      <th>Count</th>\n",
       "      <th>Offset</th>\n",
       "      <th>First half percentage</th>\n",
       "      <th>First to fourth quarter ratio</th>\n",
       "    </tr>\n",
       "  </thead>\n",
       "  <tbody>\n",
       "    <tr>\n",
       "      <th>M</th>\n",
       "      <td>2395</td>\n",
       "      <td>-24.40</td>\n",
       "      <td>59.50</td>\n",
       "      <td>1.84</td>\n",
       "    </tr>\n",
       "    <tr>\n",
       "      <th>W</th>\n",
       "      <td>2137</td>\n",
       "      <td>-20.46</td>\n",
       "      <td>58.73</td>\n",
       "      <td>1.67</td>\n",
       "    </tr>\n",
       "  </tbody>\n",
       "</table>\n",
       "</div>"
      ],
      "text/plain": [
       "   Count  Offset  First half percentage  First to fourth quarter ratio\n",
       "M   2395  -24.40                  59.50                           1.84\n",
       "W   2137  -20.46                  58.73                           1.67"
      ]
     },
     "execution_count": 13,
     "metadata": {},
     "output_type": "execute_result"
    }
   ],
   "source": [
    "sexes = ['M', 'W']\n",
    "\n",
    "d = {'%s' % sex: \n",
    "     fac.get_data(sex=sex,\n",
    "                  event_group=None, \n",
    "                  years=[2016, 2015], \n",
    "                  areas=[ra.auk.Area.England, ra.auk.Area.Wales], \n",
    "                  max_rank=200).DOB for sex in sexes}\n",
    "ra.summary_table(d.keys(), d.values(), 9).sort_values('Offset')\n"
   ]
  },
  {
   "cell_type": "code",
   "execution_count": 47,
   "metadata": {
    "collapsed": false
   },
   "outputs": [
    {
     "data": {
      "image/png": "[encoded data removed]",
      "text/plain": [
       "<matplotlib.figure.Figure at 0x12944160>"
      ]
     },
     "metadata": {},
     "output_type": "display_data"
    },
    {
     "data": {
      "image/png": "[encoded data removed]",
      "text/plain": [
       "<matplotlib.figure.Figure at 0x11b7c5f8>"
      ]
     },
     "metadata": {},
     "output_type": "display_data"
    }
   ],
   "source": [
    "ra.plot_by_month(d['M'])\n",
    "ra.plot_by_month(d['W'])"
   ]
  },
  {
   "cell_type": "code",
   "execution_count": 24,
   "metadata": {
    "collapsed": false
   },
   "outputs": [
    {
     "data": {
      "text/html": [
       "<div>\n",
       "<table border=\"1\" class=\"dataframe\">\n",
       "  <thead>\n",
       "    <tr style=\"text-align: right;\">\n",
       "      <th></th>\n",
       "      <th>Sprints</th>\n",
       "      <th>Distance</th>\n",
       "      <th>Jumps</th>\n",
       "      <th>Throws</th>\n",
       "      <th>All</th>\n",
       "    </tr>\n",
       "  </thead>\n",
       "  <tbody>\n",
       "    <tr>\n",
       "      <th>U13</th>\n",
       "      <td>-70.3</td>\n",
       "      <td>-44.0</td>\n",
       "      <td>-62.1</td>\n",
       "      <td>-60.6</td>\n",
       "      <td>-56.9</td>\n",
       "    </tr>\n",
       "    <tr>\n",
       "      <th>U15</th>\n",
       "      <td>-50.1</td>\n",
       "      <td>-29.0</td>\n",
       "      <td>-40.1</td>\n",
       "      <td>-42.8</td>\n",
       "      <td>-39.4</td>\n",
       "    </tr>\n",
       "    <tr>\n",
       "      <th>U17</th>\n",
       "      <td>-39.7</td>\n",
       "      <td>-18.8</td>\n",
       "      <td>-43.4</td>\n",
       "      <td>-37.3</td>\n",
       "      <td>-33.2</td>\n",
       "    </tr>\n",
       "    <tr>\n",
       "      <th>U20</th>\n",
       "      <td>-20.5</td>\n",
       "      <td>-4.6</td>\n",
       "      <td>-17.7</td>\n",
       "      <td>-17.8</td>\n",
       "      <td>-15.3</td>\n",
       "    </tr>\n",
       "  </tbody>\n",
       "</table>\n",
       "</div>"
      ],
      "text/plain": [
       "     Sprints  Distance  Jumps  Throws   All\n",
       "U13    -70.3     -44.0  -62.1   -60.6 -56.9\n",
       "U15    -50.1     -29.0  -40.1   -42.8 -39.4\n",
       "U17    -39.7     -18.8  -43.4   -37.3 -33.2\n",
       "U20    -20.5      -4.6  -17.7   -17.8 -15.3"
      ]
     },
     "execution_count": 24,
     "metadata": {},
     "output_type": "execute_result"
    }
   ],
   "source": [
    "groups = ra.auk.event_groups.keys() + [None]\n",
    "\n",
    "def f(a, g):\n",
    "    return fac.get_data(sex=None,\n",
    "                        age_group=a,\n",
    "                        event_group=g, \n",
    "                        years=[2016, 2015], \n",
    "                        areas=[ra.auk.Area.England, ra.auk.Area.Wales], \n",
    "                        max_rank=200).DOB\n",
    "\n",
    "ages = [ra.auk.AgeGroup.U13, ra.auk.AgeGroup.U15, ra.auk.AgeGroup.U17, ra.auk.AgeGroup.U20]\n",
    "\n",
    "d = [[ra.average_offset(f(age, group), 9) for group in groups] for age in ages]\n",
    "df = pd.DataFrame(d, columns=ra.auk.event_groups.keys()+['All'], index=ages).round(1)\n",
    "df"
   ]
  },
  {
   "cell_type": "code",
   "execution_count": 24,
   "metadata": {
    "collapsed": false
   },
   "outputs": [
    {
     "data": {
      "image/png": "[encoded data removed]",
      "text/plain": [
       "<matplotlib.figure.Figure at 0xf835278>"
      ]
     },
     "metadata": {},
     "output_type": "display_data"
    }
   ],
   "source": [
    "u13_sprint = fac.get_data(sex='M',\n",
    "                    age_group=ra.auk.AgeGroup.U13,\n",
    "                    event_group='Sprints', \n",
    "                    years=[2016, 2015], \n",
    "                    areas=[ra.auk.Area.England, ra.auk.Area.Wales], \n",
    "                    max_rank=200).DOB\n",
    "ra.plot_by_month(u13_sprint, \"E & W U13 Boy Sprints, 2015-16, top 200\", \n",
    "                r\"C:\\temp\\relative_age\\athletics\\EW-U13-boy-Sprints-2015-16-top200.jpg\")"
   ]
  },
  {
   "cell_type": "code",
   "execution_count": 12,
   "metadata": {
    "collapsed": false
   },
   "outputs": [
    {
     "data": {
      "image/png": "[encoded data removed]",
      "text/plain": [
       "<matplotlib.figure.Figure at 0xb244278>"
      ]
     },
     "metadata": {},
     "output_type": "display_data"
    }
   ],
   "source": [
    "all_current_s = fac.get_data(sex=None,\n",
    "                              event_group=None, \n",
    "                              years=[2016, 2015], \n",
    "                              areas=[ra.auk.Area.Scotland], \n",
    "                              max_rank=200)\n",
    "ra.plot_by_month(all_current_s.DOB, \"2015-2016, Scotland\",\n",
    "                r\"C:\\temp\\relative_age\\athletics\\S-2015-16-top200.jpg\")"
   ]
  },
  {
   "cell_type": "code",
   "execution_count": 25,
   "metadata": {
    "collapsed": false
   },
   "outputs": [
    {
     "data": {
      "text/html": [
       "<div>\n",
       "<table border=\"1\" class=\"dataframe\">\n",
       "  <thead>\n",
       "    <tr style=\"text-align: right;\">\n",
       "      <th></th>\n",
       "      <th>Sprints</th>\n",
       "      <th>Distance</th>\n",
       "      <th>Jumps</th>\n",
       "      <th>Throws</th>\n",
       "      <th>All</th>\n",
       "    </tr>\n",
       "  </thead>\n",
       "  <tbody>\n",
       "    <tr>\n",
       "      <th>U13</th>\n",
       "      <td>-47.5</td>\n",
       "      <td>-44.7</td>\n",
       "      <td>-41.5</td>\n",
       "      <td>-68.7</td>\n",
       "      <td>-40.1</td>\n",
       "    </tr>\n",
       "    <tr>\n",
       "      <th>U15</th>\n",
       "      <td>-25.6</td>\n",
       "      <td>-19.6</td>\n",
       "      <td>-22.8</td>\n",
       "      <td>-38.9</td>\n",
       "      <td>-24.2</td>\n",
       "    </tr>\n",
       "    <tr>\n",
       "      <th>U17</th>\n",
       "      <td>-10.7</td>\n",
       "      <td>-7.5</td>\n",
       "      <td>-17.2</td>\n",
       "      <td>-22.1</td>\n",
       "      <td>-12.4</td>\n",
       "    </tr>\n",
       "    <tr>\n",
       "      <th>U20</th>\n",
       "      <td>-0.6</td>\n",
       "      <td>1.3</td>\n",
       "      <td>14.1</td>\n",
       "      <td>-1.8</td>\n",
       "      <td>2.2</td>\n",
       "    </tr>\n",
       "  </tbody>\n",
       "</table>\n",
       "</div>"
      ],
      "text/plain": [
       "     Sprints  Distance  Jumps  Throws   All\n",
       "U13    -47.5     -44.7  -41.5   -68.7 -40.1\n",
       "U15    -25.6     -19.6  -22.8   -38.9 -24.2\n",
       "U17    -10.7      -7.5  -17.2   -22.1 -12.4\n",
       "U20     -0.6       1.3   14.1    -1.8   2.2"
      ]
     },
     "execution_count": 25,
     "metadata": {},
     "output_type": "execute_result"
    }
   ],
   "source": [
    "groups = ra.auk.event_groups.keys() + [None]\n",
    "\n",
    "def f(a, g):\n",
    "    return fac.get_data(sex=None,\n",
    "                        age_group=a,\n",
    "                        event_group=g, \n",
    "                        years=[2016, 2015], \n",
    "                        areas=[ra.auk.Area.Scotland], \n",
    "                        max_rank=200).DOB\n",
    "\n",
    "ages = [ra.auk.AgeGroup.U13, ra.auk.AgeGroup.U15, ra.auk.AgeGroup.U17, ra.auk.AgeGroup.U20]\n",
    "\n",
    "d = [[ra.average_offset(f(age, group), 9) for group in groups] for age in ages]\n",
    "df = pd.DataFrame(d, columns=ra.auk.event_groups.keys() + ['All'], index=ages).round(1)\n",
    "df"
   ]
  },
  {
   "cell_type": "code",
   "execution_count": 35,
   "metadata": {
    "collapsed": false
   },
   "outputs": [
    {
     "data": {
      "image/png": "[encoded data removed]",
      "text/plain": [
       "<matplotlib.figure.Figure at 0xdf5d748>"
      ]
     },
     "metadata": {},
     "output_type": "display_data"
    }
   ],
   "source": [
    "d = fac.get_data(sex=None,\n",
    "                        age_group=ra.auk.AgeGroup.U17,\n",
    "                        event_group=None, \n",
    "                        years=[2016, 2015], \n",
    "                        areas=[ra.auk.Area.Scotland], \n",
    "                        max_rank=200).DOB\n",
    "ra.plot_by_month(d, \"Scotland U17 2015-16\", r\"C:\\temp\\relative_age\\athletics\\S-U17-2015-16.jpg\")\n",
    "d.sort_values()"
   ]
  },
  {
   "cell_type": "code",
   "execution_count": 36,
   "metadata": {
    "collapsed": false
   },
   "outputs": [
    {
     "data": {
      "image/png": "[encoded data removed]",
      "text/plain": [
       "<matplotlib.figure.Figure at 0xae80e48>"
      ]
     },
     "metadata": {},
     "output_type": "display_data"
    }
   ],
   "source": [
    "d = fac.get_data(sex=None,\n",
    "                        age_group=ra.auk.AgeGroup.U17,\n",
    "                        event_group=None, \n",
    "                        years=[2016, 2015], \n",
    "                        areas=[ra.auk.Area.England, ra.auk.Area.Wales], \n",
    "                        max_rank=200).DOB\n",
    "ra.plot_by_month(d, \"England & Wales U17 2015-16\", r\"C:\\temp\\relative_age\\athletics\\EW-U17-2015-16.jpg\")\n"
   ]
  },
  {
   "cell_type": "code",
   "execution_count": 42,
   "metadata": {
    "collapsed": false
   },
   "outputs": [
    {
     "data": {
      "image/png": "[encoded data removed]",
      "text/plain": [
       "<matplotlib.figure.Figure at 0xe4f7358>"
      ]
     },
     "metadata": {},
     "output_type": "display_data"
    }
   ],
   "source": [
    "d = fac.get_data(sex='W',\n",
    "                           event_group='Distance', \n",
    "                           years=None, \n",
    "                           areas=[ra.auk.Area.England, ra.auk.Area.Wales], \n",
    "                           max_rank=100).DOB\n",
    "ra.plot_by_month(d, \"All time women's distance top 100, England and Wales\",\n",
    "                 r\"C:\\temp\\relative_age\\athletics\\EW-womens-distance.jpg\")"
   ]
  }
 ],
 "metadata": {
  "anaconda-cloud": {},
  "kernelspec": {
   "display_name": "Python [default]",
   "language": "python",
   "name": "python2"
  },
  "language_info": {
   "codemirror_mode": {
    "name": "ipython",
    "version": 2
   },
   "file_extension": ".py",
   "mimetype": "text/x-python",
   "name": "python",
   "nbconvert_exporter": "python",
   "pygments_lexer": "ipython2",
   "version": "2.7.12"
  }
 },
 "nbformat": 4,
 "nbformat_minor": 0
}
